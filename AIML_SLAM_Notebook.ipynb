{
 "cells": [
  {
   "metadata": {},
   "cell_type": "markdown",
   "source": "",
   "id": "f975fabcf55d3507"
  },
  {
   "metadata": {},
   "cell_type": "markdown",
   "source": [
    "# Project Title and Authors\n",
    "Project Title: NBA Predictor\n",
    "Authors: Sam Motto and Alex Lehman"
   ],
   "id": "95db9a0470488414"
  },
  {
   "metadata": {},
   "cell_type": "markdown",
   "source": [
    "## Introduction\n",
    "\"Introduce the regression or classification task your group has chosen. Specify clearly whether it is a regression or a classification problem. Provide a reference or note the source of your dataset (e.g., UCI, Kaggle, Google’s Dataset Search, etc.).\"\n",
    "\n"
   ],
   "id": "31013f693d7efb26"
  },
  {
   "metadata": {},
   "cell_type": "markdown",
   "source": [
    "## Methods: Data\n",
    "\"Describe your dataset in detail. Include its source, key features, and any important contextual information. Explain the data cleaning or pre-processing steps and how you split the data into training/validation and test sets.\""
   ],
   "id": "2baf93fb5796406d"
  },
  {
   "metadata": {},
   "cell_type": "code",
   "outputs": [],
   "execution_count": null,
   "source": "# put code here",
   "id": "75083799bdd6a46f"
  },
  {
   "metadata": {},
   "cell_type": "markdown",
   "source": [
    "## Methods: Training/Validation\n",
    "Describe how you performed the training/validation process. Summarize the at least five different model variations that you tried (e.g., changes in features, different algorithms, or hyperparameters) and explain your method for model selection."
   ],
   "id": "f8b0035532123199"
  },
  {
   "metadata": {},
   "cell_type": "code",
   "outputs": [],
   "execution_count": null,
   "source": "# put training here",
   "id": "20f0b1f93822e290"
  },
  {
   "metadata": {},
   "cell_type": "markdown",
   "source": [
    "## Results on Test Set\n",
    "Describe how you evaluated your final model using the test set. Include key performance metrics and relevant visualizations (e.g., ROC curves, confusion matrices, graphs, summary statistics, accuracy, etc.)."
   ],
   "id": "e2a4f1d4c988021"
  },
  {
   "metadata": {},
   "cell_type": "code",
   "outputs": [],
   "execution_count": null,
   "source": "# put results on test set here",
   "id": "234ccdb0bf5f9379"
  },
  {
   "metadata": {},
   "cell_type": "markdown",
   "source": [
    "## Discussion / Conclusion\n",
    "Discuss the outcomes of your project. Summarize your key findings, interpret the results, and offer reflections on what worked well and what could be improved in future iterations of your work."
   ],
   "id": "f82bbb4bc7781618"
  },
  {
   "metadata": {},
   "cell_type": "markdown",
   "source": [
    "## Disclosures\n",
    "Include a brief description of your use of ChatGPT or any other AI tools to help with your project, if applicable."
   ],
   "id": "700b9913b22d703a"
  },
  {
   "metadata": {},
   "cell_type": "code",
   "outputs": [],
   "execution_count": null,
   "source": "",
   "id": "7f456341b2660b3e"
  }
 ],
 "metadata": {
  "kernelspec": {
   "display_name": "Python 3",
   "language": "python",
   "name": "python3"
  },
  "language_info": {
   "codemirror_mode": {
    "name": "ipython",
    "version": 2
   },
   "file_extension": ".py",
   "mimetype": "text/x-python",
   "name": "python",
   "nbconvert_exporter": "python",
   "pygments_lexer": "ipython2",
   "version": "2.7.6"
  }
 },
 "nbformat": 4,
 "nbformat_minor": 5
}
